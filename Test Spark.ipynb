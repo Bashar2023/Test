{
    "cells": [
        {
            "cell_type": "code",
            "execution_count": 21,
            "metadata": {},
            "outputs": [
                {
                    "name": "stdout",
                    "output_type": "stream",
                    "text": "+-----+----------+---------------+\n|   ID|      NAME|            DOB|\n+-----+----------+---------------+\n|40210| \ufffd\ufffd\ufffd\ufffd \ufffd\ufffd\ufffd\ufffd|10/24/1981 0:00|\n|39928| \ufffd\ufffd\ufffd\ufffd \ufffd\ufffd\ufffd\ufffd|10/30/1975 0:00|\n|39303|\ufffd\ufffd \ufffd\ufffd\ufffd\ufffd\ufffd\ufffd\ufffd|  1/1/1973 0:00|\n|  277|\ufffd\ufffd\ufffd\ufffd \ufffd\ufffd\ufffd\ufffd\ufffd| 12/2/1963 0:00|\n|42990|  \ufffd\ufffd\ufffd \ufffd\ufffd\ufffd\ufffd| 2/14/1973 0:00|\n+-----+----------+---------------+\nonly showing top 5 rows\n\n"
                }
            ],
            "source": "# The code was removed by Watson Studio for sharing."
        },
        {
            "cell_type": "code",
            "execution_count": null,
            "metadata": {},
            "outputs": [],
            "source": ""
        }
    ],
    "metadata": {
        "kernelspec": {
            "display_name": "Python 3.9 with Spark",
            "language": "python3",
            "name": "python39"
        },
        "language_info": {
            "codemirror_mode": {
                "name": "ipython",
                "version": 3
            },
            "file_extension": ".py",
            "mimetype": "text/x-python",
            "name": "python",
            "nbconvert_exporter": "python",
            "pygments_lexer": "ipython3",
            "version": "3.9.13"
        }
    },
    "nbformat": 4,
    "nbformat_minor": 1
}